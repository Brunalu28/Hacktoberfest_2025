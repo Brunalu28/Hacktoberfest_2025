{
  "cells": [
    {
      "cell_type": "markdown",
      "metadata": {
        "id": "HaLX_FB22cJo"
      },
      "source": [
        "### CÉLULA 0: Importação de Bibliotecas Essenciais 🛠️"
      ]
    },
    {
      "cell_type": "code",
      "execution_count": null,
      "metadata": {
        "id": "dp0fNolJfO0e"
      },
      "outputs": [],
      "source": [
        "!pip install -qU langchain # LangChain é útil para abstrair a interação com o LLM"
      ]
    },
    {
      "cell_type": "code",
      "execution_count": null,
      "metadata": {
        "colab": {
          "base_uri": "https://localhost:8080/"
        },
        "id": "M850t4mYgG-z",
        "outputId": "c98a1d2b-1820-4209-b395-b0610647b4bd"
      },
      "outputs": [
        {
          "name": "stdout",
          "output_type": "stream",
          "text": [
            "llama-cpp-python instalado com sucesso!\n",
            "Dependências instaladas.\n"
          ]
        }
      ],
      "source": [
        "!pip install -qU llama-cpp-python\n",
        "# Verifica se a instalação do llama-cpp-python foi bem-sucedida\n",
        "try:\n",
        "    from llama_cpp import Llama\n",
        "    print(\"llama-cpp-python instalado com sucesso!\")\n",
        "except ImportError:\n",
        "    print(\"Erro na instalação do llama-cpp-python. Verifique as saídas acima.\")\n",
        "    print(\"Se a instalação com CUDA falhou, tente comentar a primeira linha de instalação e descomentar a segunda.\")\n",
        "\n",
        "print(\"Dependências instaladas.\")"
      ]
    },
    {
      "cell_type": "code",
      "execution_count": null,
      "metadata": {
        "id": "_YP5GRRRhMHi"
      },
      "outputs": [],
      "source": [
        "# Instala a biblioteca huggingface_hub para baixar modelos\n",
        "!pip install -qU huggingface_hub"
      ]
    },
    {
      "cell_type": "code",
      "execution_count": null,
      "metadata": {
        "id": "xI4wjLbGnyp7"
      },
      "outputs": [],
      "source": [
        "!pip install -qU langchain-community # Necessário para LlamaCpp e outras integrações da LangChain"
      ]
    },
    {
      "cell_type": "code",
      "execution_count": null,
      "metadata": {
        "colab": {
          "base_uri": "https://localhost:8080/"
        },
        "id": "c0meTqoghUAp",
        "outputId": "3bf51a0b-c095-4199-8ecf-905bf047f5e2"
      },
      "outputs": [
        {
          "name": "stdout",
          "output_type": "stream",
          "text": [
            "O modelo mistral-7b-instruct-v0.2.Q4_K_M.gguf já existe em ./models. Pulando o download.\n",
            "Caminho do modelo: ./models/mistral-7b-instruct-v0.2.Q4_K_M.gguf\n"
          ]
        }
      ],
      "source": [
        "from huggingface_hub import hf_hub_download\n",
        "import os\n",
        "\n",
        "model_name = \"mistral-7b-instruct-v0.2.Q4_K_M.gguf\" # Altere para o nome do novo arquivo GGUF\n",
        "model_repo_id = \"TheBloke/Mistral-7B-Instruct-v0.2-GGUF\" # Altere para o novo repositório\n",
        "# Define o diretório onde o modelo será salvo\n",
        "model_dir = \"./models\"\n",
        "os.makedirs(model_dir, exist_ok=True) # Cria o diretório se não existir\n",
        "\n",
        "# Caminho completo para o modelo\n",
        "model_path = os.path.join(model_dir, model_name)\n",
        "\n",
        "# Verifica se o modelo já existe para evitar download repetido\n",
        "if not os.path.exists(model_path):\n",
        "    print(f\"Baixando o modelo {model_name} de {model_repo_id}...\")\n",
        "    hf_hub_download(\n",
        "        repo_id=model_repo_id,\n",
        "        filename=model_name,\n",
        "        local_dir=model_dir,\n",
        "        local_dir_use_symlinks=False # Importante para Colab\n",
        "    )\n",
        "    print(\"Download do modelo concluído!\")\n",
        "else:\n",
        "    print(f\"O modelo {model_name} já existe em {model_dir}. Pulando o download.\")\n",
        "\n",
        "print(f\"Caminho do modelo: {model_path}\")\n"
      ]
    },
    {
      "cell_type": "code",
      "execution_count": null,
      "metadata": {
        "colab": {
          "base_uri": "https://localhost:8080/"
        },
        "id": "tuALBJqwhiLu",
        "outputId": "290c5797-b7d8-4463-bb30-99b7b79e9dad"
      },
      "outputs": [
        {
          "name": "stderr",
          "output_type": "stream",
          "text": [
            "llama_context: n_batch is less than GGML_KQ_MASK_PAD - increasing to 64\n",
            "llama_context: n_ctx_per_seq (2048) < n_ctx_train (32768) -- the full capacity of the model will not be utilized\n"
          ]
        },
        {
          "name": "stdout",
          "output_type": "stream",
          "text": [
            "\n",
            "Modelo LLM inicializado com sucesso!\n"
          ]
        }
      ],
      "source": [
        "from langchain_community.llms import LlamaCpp\n",
        "from langchain_core.callbacks.manager import CallbackManager\n",
        "from langchain_core.callbacks.streaming_stdout import StreamingStdOutCallbackHandler\n",
        "\n",
        "# Configura o callback para streaming da saída\n",
        "#callback_manager = CallbackManager([StreamingStdOutCallbackHandler()])\n",
        "\n",
        "\n",
        "llm = LlamaCpp(\n",
        "    model_path=model_path, # Caminho para o modelo GGUF\n",
        "    n_ctx=2048,           # Contexto máximo de tokens (ajuste conforme o modelo)\n",
        "    n_gpu_layers=-1,      # Descarrega todas as camadas para a GPU (se disponível)\n",
        "    n_threads=os.cpu_count(), # Usa o número de threads da CPU disponível\n",
        "    temperature=0.3,      # Reduzido para tornar as respostas mais determinísticas\n",
        "    max_tokens=100,       # Ajustado para garantir que a resposta completa seja gerada\n",
        "    verbose=False          # Saída detalhada\n",
        ")\n",
        "#callback_manager=callback_manager, # Para ver a saída em tempo real\n",
        "print(\"\\nModelo LLM inicializado com sucesso!\")"
      ]
    },
    {
      "cell_type": "markdown",
      "metadata": {
        "id": "1fIpWilgovdu"
      },
      "source": [
        "### CÉLULA 1: Importação de Bibliotecas Essenciais 📚\n"
      ]
    },
    {
      "cell_type": "code",
      "execution_count": null,
      "metadata": {
        "id": "cGSeqrwiihbZ"
      },
      "outputs": [],
      "source": [
        "import os\n",
        "import requests\n",
        "from langchain_core.output_parsers import StrOutputParser\n",
        "from langchain_core.prompts import PromptTemplate"
      ]
    },
    {
      "cell_type": "markdown",
      "metadata": {
        "id": "E2r41ydKo-Qu"
      },
      "source": [
        "### CÉLULA 2: Configuração do Webhook do Discord ⚙️\n"
      ]
    },
    {
      "cell_type": "code",
      "execution_count": null,
      "metadata": {
        "id": "pjvUeyEZiIyk"
      },
      "outputs": [],
      "source": [
        "# Substitua este URL pelo Webhook URL que você copiou do Discord\n",
        "DISCORD_WEBHOOK_URL_PLACEHOLDER = \"COLE_AQUI_SEU_WEBHOOK\"\n",
        "\n",
        "DISCORD_WEBHOOK_URL = os.getenv(\"DISCORD_WEBHOOK_URL\", DISCORD_WEBHOOK_URL_PLACEHOLDER)"
      ]
    },
    {
      "cell_type": "markdown",
      "metadata": {
        "id": "7Mu1xlh3pKCp"
      },
      "source": [
        "### CÉLULA 3: Cadeia de Análise PDFs (LLMChain) 🧠\n",
        "\n",
        "---\n",
        "\n",
        "\n",
        "\n",
        "\n"
      ]
    },
    {
      "cell_type": "code",
      "execution_count": null,
      "metadata": {
        "id": "myYWFXjtiMmi"
      },
      "outputs": [],
      "source": [
        "slide_summary_prompt = PromptTemplate.from_template(\n",
        "    \"\"\"Você é um assistente de estudo prestativo.\n",
        "Crie um resumo conciso, com no máximo 20 linhas, do seguinte texto de slide.\n",
        "O resumo deve focar nas ideias centrais, usar linguagem simples e ter um tom informativo e amigável para auxiliar estudantes.\n",
        "\n",
        "Texto do Slide: \"{texto_do_slide}\"\n",
        "\n",
        "Resumo:\"\"\"\n",
        ")\n",
        "# Remove o 'stop' para permitir um resumo mais longo\n",
        "slide_summary_chain = slide_summary_prompt | llm | StrOutputParser()"
      ]
    },
    {
      "cell_type": "markdown",
      "metadata": {
        "id": "peAo2IyYpU8q"
      },
      "source": [
        "### CÉLULA 4: Cadeia de Sugestão de Resposta ao Cliente (LLMChain) 💬\n"
      ]
    },
    {
      "cell_type": "code",
      "execution_count": null,
      "metadata": {
        "id": "FFIIK8isiPQQ"
      },
      "outputs": [],
      "source": [
        "key_concepts_prompt = PromptTemplate.from_template(\n",
        "    \"\"\"Analise o seguinte texto de slide e identifique os 3-5 conceitos mais importantes.\n",
        "Liste cada conceito em uma linha separada, começando com um hífen.\n",
        "\n",
        "Texto do Slide: \"{texto_do_slide}\"\n",
        "\n",
        "Conceitos-Chave:\"\"\"\n",
        ")\n",
        "key_concepts_chain = key_concepts_prompt | llm | StrOutputParser()"
      ]
    },
    {
      "cell_type": "markdown",
      "metadata": {
        "id": "Xzu9txZ9pcA4"
      },
      "source": [
        "### CÉLULA 5: Cadeia de Avaliação de Prioridade (LLMChain) 🚀\n"
      ]
    },
    {
      "cell_type": "code",
      "execution_count": null,
      "metadata": {
        "id": "4aJMKwAtiR6s"
      },
      "outputs": [],
      "source": [
        "study_questions_prompt = PromptTemplate.from_template(\n",
        "    \"\"\"Com base no seguinte texto de slide, crie 2-3 perguntas de estudo que ajudem os estudantes a testar seu entendimento do conteúdo.\n",
        "As perguntas devem ser claras e focadas nos pontos principais.\n",
        "\n",
        "Texto do Slide: \"{texto_do_slide}\"\n",
        "\n",
        "Perguntas de Estudo:\"\"\"\n",
        ")\n",
        "study_questions_chain = study_questions_prompt | llm | StrOutputParser()"
      ]
    },
    {
      "cell_type": "markdown",
      "metadata": {
        "id": "bS6j1YWOpeoG"
      },
      "source": [
        "### CÉLULA 6: Função para enviar mensagens ao Discord 🚀\n"
      ]
    },
    {
      "cell_type": "code",
      "execution_count": null,
      "metadata": {
        "id": "Adng5CbviUMO"
      },
      "outputs": [],
      "source": [
        "def send_discord_message(text: str, webhook_url: str, username: str = \"Assistente de Estudos\", avatar_url: str = None):\n",
        "    \"\"\"\n",
        "    Envia uma mensagem de texto para o Discord usando um webhook.\n",
        "    \"\"\"\n",
        "    if not webhook_url or \"discord.com/api/webhooks\" not in webhook_url:\n",
        "        print(f\"ERRO: Discord Webhook URL inválido ou não configurado. Mensagem não enviada: '{text}'\")\n",
        "        return\n",
        "\n",
        "    payload = {\n",
        "        \"content\": text,\n",
        "        \"username\": username,\n",
        "        \"avatar_url\": avatar_url\n",
        "    }\n",
        "    try:\n",
        "        response = requests.post(webhook_url, json=payload)\n",
        "        response.raise_for_status() # Lança exceção para erros HTTP (4xx ou 5xx)\n",
        "        print(f\"\\n[INTEGRAÇÃO DISCORD] Mensagem enviada com sucesso para o Discord!\")\n",
        "    except requests.exceptions.RequestException as e:\n",
        "        print(f\"\\n[ERRO DISCORD] Falha ao enviar mensagem para o Discord: {e}\")"
      ]
    },
    {
      "cell_type": "markdown",
      "metadata": {
        "id": "aCfHOwlPpzS7"
      },
      "source": [
        "### CÉLULA 7: Célula de Testes com Feedbacks\n"
      ]
    },
    {
      "cell_type": "code",
      "execution_count": null,
      "metadata": {
        "colab": {
          "base_uri": "https://localhost:8080/"
        },
        "id": "UXJOElN7iW27",
        "outputId": "83772448-9b63-4f68-f373-05378305eb11"
      },
      "outputs": [
        {
          "name": "stdout",
          "output_type": "stream",
          "text": [
            "\n",
            "Slide Original (Biologia): FOTOSSÍNTESE\n",
            "Processo pelo qual plantas, algas e algumas bactérias convertem energia luminosa em energia química.\n",
            "Equação geral: 6CO2 + 6H2O + luz → C6H12O6 + 6O2\n",
            "Ocorre nos cloroplastos, especificamente nos tilacoides.\n",
            "Duas fases principais: fase luminosa (produz ATP e NADPH) e fase escura (ciclo de Calvin).\n",
            "A clorofila é o pigmento principal responsável pela absorção de luz.\n",
            "\n",
            "Resumo: Fotosíntese é o processo pelo qual plantas, algas e algumas bactérias convertem energia luminosa em energia química. Isso ocorre nos cloroplastos, especificamente nos tilacoides. A fotossíntese pode ser dividida em duas fases principais: fase luminosa e fase escura. A clorofila é o pigmento\n",
            "\n",
            "Conceitos-Chave: - Fotosíntese\n",
            "- Cloroplastos\n",
            "- Tilacoides\n",
            "- Equação geral de fotossíntese\n",
            "- Fase luminosa (produz ATP e NADPH)\n",
            "- Fase escura (ciclo de Calvin)\n",
            "- Clorofila (pigmento principal responsável pela absorção de luz)\n",
            "\n",
            "Perguntas de Estudo: 1. O que é a fotossíntese e como ela converte energia luminosa em energia química?\n",
            "2. Em que partes dos cloroplastos ocorre a fotossíntese e qual é a função de cada parte?\n",
            "3. Quais são as duas fases principais da fotossíntese e o que elas produzem?\n",
            "4. Qual é a função do pigment\n",
            "\n",
            "[INTEGRAÇÃO DISCORD] Mensagem enviada com sucesso para o Discord!\n",
            "\n",
            "==================================================\n",
            "\n",
            "Slide Original (História): REVOLUÇÃO INDUSTRIAL\n",
            "    Período de grandes transformações econômicas e sociais entre 1760-1840.\n",
            "    Origem: Inglaterra, com a mecanização da indústria têxtil.\n",
            "    Principais invenções: máquina a vapor (James Watt), tear mecânico.\n",
            "    Consequências: urbanização, surgimento do proletariado, capitalismo industrial.\n",
            "    Impacto ambiental: início da poluição industrial em larga escala.\n",
            "\n",
            "Resumo: A Revolução Industrial, entre 1760-1840, foi um período de grandes transformações econômicas e sociais, iniciada na Inglaterra com a mecanização da indústria têxtil.\n",
            "\n",
            "As principais invenções desta era foram a máquina a vapor (James Watt) e o tear mecânico.\n",
            "\n",
            "A Revolu\n",
            "\n",
            "Conceitos-Chave: - Revolução Industrial (1760-1840)\n",
            "  - Origem: Inglaterra, indústria têxtil\n",
            "  - Principais invenções: máquina a vapor, tear mecânico\n",
            "- Consequências: urbanização, proletariado, capitalismo industrial\n",
            "- Impacto ambiental: poluição industrial em larga escala.\n",
            "\n",
            "Perguntas de Estudo: 1. O que é Revolução Industrial e em que período ela ocorreu?\n",
            "2. De onde surgiu a Revolução Industrial e quais invenções foram de grande importância neste processo?\n",
            "3. Quais consequências sociais, econômicas e ambientais resultaram da Revolução Industrial?\n",
            "\n",
            "[INTEGRAÇÃO DISCORD] Mensagem enviada com sucesso para o Discord!\n"
          ]
        }
      ],
      "source": [
        "# Célula de Testes com Materiais de Estudo\n",
        "if __name__ == \"__main__\":\n",
        "\n",
        "    # Exemplo 1: Slide de Biologia\n",
        "    slide_biologia = slide_biologia = \"\"\"FOTOSSÍNTESE\n",
        "Processo pelo qual plantas, algas e algumas bactérias convertem energia luminosa em energia química.\n",
        "Equação geral: 6CO2 + 6H2O + luz → C6H12O6 + 6O2\n",
        "Ocorre nos cloroplastos, especificamente nos tilacoides.\n",
        "Duas fases principais: fase luminosa (produz ATP e NADPH) e fase escura (ciclo de Calvin).\n",
        "A clorofila é o pigmento principal responsável pela absorção de luz.\"\"\"\n",
        "\n",
        "\n",
        "    print(f\"\\nSlide Original (Biologia): {slide_biologia}\")\n",
        "\n",
        "    # Passo 1: Resumo do Slide\n",
        "    resumo_biologia = slide_summary_chain.invoke({\"texto_do_slide\": slide_biologia}).strip()\n",
        "    print(f\"\\nResumo: {resumo_biologia}\")\n",
        "\n",
        "    # Passo 2: Conceitos-Chave\n",
        "    conceitos_biologia = key_concepts_chain.invoke({\"texto_do_slide\": slide_biologia}).strip()\n",
        "    print(f\"\\nConceitos-Chave: {conceitos_biologia}\")\n",
        "\n",
        "    # Passo 3: Perguntas de Estudo\n",
        "    perguntas_biologia = study_questions_chain.invoke({\"texto_do_slide\": slide_biologia}).strip()\n",
        "    print(f\"\\nPerguntas de Estudo: {perguntas_biologia}\")\n",
        "\n",
        "    # Enviar para o Discord\n",
        "    discord_message_biologia = (\n",
        "        f\"**NOVO RESUMO DE ESTUDO (Biologia)**\\n\"\n",
        "        f\"> **Slide Original:**\\n```\\n{slide_biologia}\\n```\\n\"\n",
        "        f\"> **Resumo:**\\n```\\n{resumo_biologia}\\n```\\n\"\n",
        "        f\"> **Conceitos-Chave:**\\n```\\n{conceitos_biologia}\\n```\\n\"\n",
        "        f\"> **Perguntas de Estudo:**\\n```\\n{perguntas_biologia}\\n```\"\n",
        "    )\n",
        "    send_discord_message(discord_message_biologia, \"https://discord.com/api/webhooks/1379881762196295680/LDoW4v5NWgPDLec6JTJ5fmgz4gY9rgOsP_6r62RqR86uFsfhNXa3TPf1h21U9FSMMozd\", username=\"Assistente de Estudos\")\n",
        "\n",
        "    print(\"\\n\" + \"=\"*50 + \"\\n\")\n",
        "\n",
        "    # Exemplo 2: Slide de História\n",
        "    slide_historia = \"\"\"REVOLUÇÃO INDUSTRIAL\n",
        "    Período de grandes transformações econômicas e sociais entre 1760-1840.\n",
        "    Origem: Inglaterra, com a mecanização da indústria têxtil.\n",
        "    Principais invenções: máquina a vapor (James Watt), tear mecânico.\n",
        "    Consequências: urbanização, surgimento do proletariado, capitalismo industrial.\n",
        "    Impacto ambiental: início da poluição industrial em larga escala.\"\"\"\n",
        "\n",
        "    print(f\"Slide Original (História): {slide_historia}\")\n",
        "\n",
        "    resumo_historia = slide_summary_chain.invoke({\"texto_do_slide\": slide_historia}).strip()\n",
        "    print(f\"\\nResumo: {resumo_historia}\")\n",
        "\n",
        "    conceitos_historia = key_concepts_chain.invoke({\"texto_do_slide\": slide_historia}).strip()\n",
        "    print(f\"\\nConceitos-Chave: {conceitos_historia}\")\n",
        "\n",
        "    perguntas_historia = study_questions_chain.invoke({\"texto_do_slide\": slide_historia}).strip()\n",
        "    print(f\"\\nPerguntas de Estudo: {perguntas_historia}\")\n",
        "\n",
        "    discord_message_historia = (\n",
        "        f\"**NOVO RESUMO DE ESTUDO (História)**\\n\"\n",
        "        f\"> **Slide Original:**\\n```\\n{slide_historia}\\n```\\n\"\n",
        "        f\"> **Resumo:**\\n```\\n{resumo_historia}\\n```\\n\"\n",
        "        f\"> **Conceitos-Chave:**\\n```\\n{conceitos_historia}\\n```\\n\"\n",
        "        f\"> **Perguntas de Estudo:**\\n```\\n{perguntas_historia}\\n```\"\n",
        "    )\n",
        "    send_discord_message(discord_message_historia, DISCORD_WEBHOOK_URL, username=\"Assistente de Estudos\")"
      ]
    }
  ],
  "metadata": {
    "colab": {
      "provenance": []
    },
    "kernelspec": {
      "display_name": "Python 3",
      "name": "python3"
    },
    "language_info": {
      "name": "python"
    }
  },
  "nbformat": 4,
  "nbformat_minor": 0
}
